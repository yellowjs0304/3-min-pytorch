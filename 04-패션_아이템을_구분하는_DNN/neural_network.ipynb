{
  "nbformat": 4,
  "nbformat_minor": 0,
  "metadata": {
    "kernelspec": {
      "display_name": "Python 3",
      "language": "python",
      "name": "python3"
    },
    "language_info": {
      "codemirror_mode": {
        "name": "ipython",
        "version": 3
      },
      "file_extension": ".py",
      "mimetype": "text/x-python",
      "name": "python",
      "nbconvert_exporter": "python",
      "pygments_lexer": "ipython3",
      "version": "3.7.0"
    },
    "colab": {
      "name": "neural_network.ipynb",
      "provenance": [],
      "collapsed_sections": [],
      "include_colab_link": true
    },
    "accelerator": "GPU"
  },
  "cells": [
    {
      "cell_type": "markdown",
      "metadata": {
        "id": "view-in-github",
        "colab_type": "text"
      },
      "source": [
        "<a href=\"https://colab.research.google.com/github/yellowjs0304/3-min-pytorch/blob/master/04-%ED%8C%A8%EC%85%98_%EC%95%84%EC%9D%B4%ED%85%9C%EC%9D%84_%EA%B5%AC%EB%B6%84%ED%95%98%EB%8A%94_DNN/neural_network.ipynb\" target=\"_parent\"><img src=\"https://colab.research.google.com/assets/colab-badge.svg\" alt=\"Open In Colab\"/></a>"
      ]
    },
    {
      "cell_type": "markdown",
      "metadata": {
        "id": "UKrb-VmX83RV"
      },
      "source": [
        "# 뉴럴넷으로 패션 아이템 구분하기\n",
        "Fashion MNIST 데이터셋과 앞서 배운 인공신경망을 이용하여 패션아이템을 구분해봅니다."
      ]
    },
    {
      "cell_type": "code",
      "metadata": {
        "id": "EBtBQ6S483Re"
      },
      "source": [
        "import torch\n",
        "# DNN 모델의 재료라 할 수 있는 nn 모듈\n",
        "import torch.nn as nn\n",
        "# optimizer를 위한 optim 모듈\n",
        "import torch.optim as optim\n",
        "# nn 모듈의 함수 버전 functional 모듈\n",
        "import torch.nn.functional as F\n",
        "# torchvision의 데이터셋인 MNIST를 사용하려 아래 라이브러리 임포트\n",
        "from torchvision import transforms, datasets"
      ],
      "execution_count": null,
      "outputs": []
    },
    {
      "cell_type": "code",
      "metadata": {
        "id": "UmJuD6kU83Rf"
      },
      "source": [
        "# 현재 컴퓨터에서 CUDA(GPU Library)를 이용할 수 있는지 알아보기 위한 Flag\n",
        "USE_CUDA = torch.cuda.is_available()\n",
        "# USE_CUDA가 True일 경우, GPU를 할당 그 외엔 CPU 메모리 할당\n",
        "DEVICE = torch.device(\"cuda\" if USE_CUDA else \"cpu\")"
      ],
      "execution_count": null,
      "outputs": []
    },
    {
      "cell_type": "code",
      "metadata": {
        "id": "ljctmB9L83Rh"
      },
      "source": [
        "# Epoch과 Batch_size 선언\n",
        "EPOCHS = 30\n",
        "BATCH_SIZE = 64"
      ],
      "execution_count": null,
      "outputs": []
    },
    {
      "cell_type": "markdown",
      "metadata": {
        "id": "APU0JfMN83Rh"
      },
      "source": [
        "## 데이터셋 불러오기"
      ]
    },
    {
      "cell_type": "code",
      "metadata": {
        "id": "K9hW5Bd883Rh"
      },
      "source": [
        "transform = transforms.Compose([\n",
        "    transforms.ToTensor()\n",
        "])"
      ],
      "execution_count": null,
      "outputs": []
    },
    {
      "cell_type": "code",
      "metadata": {
        "id": "-_ZDKyp583Ri"
      },
      "source": [
        "trainset = datasets.FashionMNIST(\n",
        "    root      = './.data/', \n",
        "    train     = True,\n",
        "    download  = True,\n",
        "    transform = transform\n",
        ")\n",
        "testset = datasets.FashionMNIST(\n",
        "    root      = './.data/', \n",
        "    train     = False,\n",
        "    download  = True,\n",
        "    transform = transform\n",
        ")\n",
        "\n",
        "train_loader = torch.utils.data.DataLoader(\n",
        "    dataset     = trainset,\n",
        "    batch_size  = BATCH_SIZE,\n",
        "    shuffle     = True,\n",
        ")\n",
        "test_loader = torch.utils.data.DataLoader(\n",
        "    dataset     = testset,\n",
        "    batch_size  = BATCH_SIZE,\n",
        "    shuffle     = True,\n",
        ")"
      ],
      "execution_count": null,
      "outputs": []
    },
    {
      "cell_type": "markdown",
      "metadata": {
        "id": "NjPmP1Nb83Ri"
      },
      "source": [
        "## 뉴럴넷으로 Fashion MNIST 학습하기\n",
        "\n",
        "입력 `x` 는 `[배치크기, 색, 높이, 넓이]`로 이루어져 있습니다.\n",
        "`x.size()`를 해보면 `[64, 1, 28, 28]`이라고 표시되는 것을 보실 수 있습니다.\n",
        "Fashion MNIST에서 이미지의 크기는 28 x 28, 색은 흑백으로 1 가지 입니다.\n",
        "그러므로 입력 x의 총 특성값 갯수는 28 x 28 x 1, 즉 784개 입니다.\n",
        "\n",
        "우리가 사용할 모델은 3개의 레이어를 가진 인공신경망 입니다. "
      ]
    },
    {
      "cell_type": "code",
      "metadata": {
        "id": "2X7NAiB_83Ri"
      },
      "source": [
        "class Net(nn.Module):\n",
        "    def __init__(self):\n",
        "        super(Net, self).__init__()\n",
        "        self.fc1 = nn.Linear(784, 256)\n",
        "        self.fc2 = nn.Linear(256, 128)\n",
        "        self.fc3 = nn.Linear(128, 10)\n",
        "\n",
        "    def forward(self, x):\n",
        "        # input data(image) = x \n",
        "        # x.shape = torch.Size([64, 1, 28, 28])\n",
        "        import pdb; pdb.set_trace()\n",
        "        x = x.view(-1, 784)\n",
        "        # x.shape = torch.Size([64, 784])\n",
        "        x = F.relu(self.fc1(x))\n",
        "        # x.shape = torch.Size([64, 256])\n",
        "        x = F.relu(self.fc2(x))\n",
        "        # x.shape = torch.Size([64, 128])\n",
        "        x = self.fc3(x)\n",
        "        # x.shape = torch.Size([64, 10])\n",
        "        return x"
      ],
      "execution_count": null,
      "outputs": []
    },
    {
      "cell_type": "markdown",
      "metadata": {
        "id": "camTCSJZ83Rj"
      },
      "source": [
        "## 모델 준비하기\n",
        "\n",
        "`to()` 함수는 모델의 파라미터들을 지정한 곳으로 보내는 역할을 합니다.\n",
        "일반적으로 CPU 1개만 사용할 경우 필요는 없지만,\n",
        "GPU를 사용하고자 하는 경우 `to(\"cuda\")`로 지정하여 GPU로 보내야 합니다.\n",
        "지정하지 않을 경우 계속 CPU에 남아 있게 되며 빠른 훈련의 이점을 누리실 수 없습니다.\n",
        "\n",
        "최적화 알고리즘으로 파이토치에 내장되어 있는 `optim.SGD`를 사용하겠습니다."
      ]
    },
    {
      "cell_type": "code",
      "metadata": {
        "id": "_RZoq9LU83Rj"
      },
      "source": [
        "# GPU 사용을 위함\n",
        "model        = Net().to(DEVICE)\n",
        "\n",
        "#최적화 함수 SGD\n",
        "optimizer    = optim.SGD(model.parameters(), lr=0.01)"
      ],
      "execution_count": null,
      "outputs": []
    },
    {
      "cell_type": "markdown",
      "metadata": {
        "id": "hU4t1BVa83Rj"
      },
      "source": [
        "## 학습하기"
      ]
    },
    {
      "cell_type": "code",
      "metadata": {
        "id": "pVzaPaXs83Rj"
      },
      "source": [
        "def train(model, train_loader, optimizer):\n",
        "    model.train()\n",
        "    for batch_idx, (data, target) in enumerate(train_loader):\n",
        "        # 학습 데이터를 DEVICE의 메모리로 보냄\n",
        "        data, target = data.to(DEVICE), target.to(DEVICE)\n",
        "        optimizer.zero_grad()\n",
        "        output = model(data)\n",
        "        loss = F.cross_entropy(output, target)\n",
        "        loss.backward()\n",
        "        optimizer.step()"
      ],
      "execution_count": null,
      "outputs": []
    },
    {
      "cell_type": "markdown",
      "metadata": {
        "id": "Vlw7qPXk83Rk"
      },
      "source": [
        "## 테스트하기"
      ]
    },
    {
      "cell_type": "code",
      "metadata": {
        "id": "DFYlPmpi83Rk"
      },
      "source": [
        "def evaluate(model, test_loader):\n",
        "    model.eval()\n",
        "    test_loss = 0\n",
        "    correct = 0\n",
        "    with torch.no_grad():\n",
        "        for data, target in test_loader:\n",
        "            data, target = data.to(DEVICE), target.to(DEVICE)\n",
        "            output = model(data)\n",
        "\n",
        "            # 모든 오차 더하기\n",
        "            test_loss += F.cross_entropy(output, target,\n",
        "                                         reduction='sum').item()\n",
        "            \n",
        "            # 가장 큰 값을 가진 클래스가 모델의 예측입니다.\n",
        "            # 예측과 정답을 비교하여 일치할 경우 correct에 1을 더합니다.\n",
        "            pred = output.max(1, keepdim=True)[1]\n",
        "            correct += pred.eq(target.view_as(pred)).sum().item()\n",
        "\n",
        "    test_loss /= len(test_loader.dataset)\n",
        "    test_accuracy = 100. * correct / len(test_loader.dataset)\n",
        "    return test_loss, test_accuracy"
      ],
      "execution_count": null,
      "outputs": []
    },
    {
      "cell_type": "markdown",
      "metadata": {
        "id": "BJu0rYqx83Rk"
      },
      "source": [
        "## 코드 돌려보기\n",
        "\n",
        "자, 이제 모든 준비가 끝났습니다. 코드를 돌려서 실제로 훈련이 되는지 확인해봅시다!"
      ]
    },
    {
      "cell_type": "code",
      "metadata": {
        "id": "z4x17DMC83Rk",
        "colab": {
          "base_uri": "https://localhost:8080/"
        },
        "outputId": "20ba4e4c-0189-49ec-c991-f9e51ebbdcab"
      },
      "source": [
        "for epoch in range(1, EPOCHS + 1):\n",
        "    train(model, train_loader, optimizer)\n",
        "    test_loss, test_accuracy = evaluate(model, test_loader)\n",
        "    \n",
        "    print('[{}] Test Loss: {:.4f}, Accuracy: {:.2f}%'.format(\n",
        "          epoch, test_loss, test_accuracy))"
      ],
      "execution_count": null,
      "outputs": [
        {
          "output_type": "stream",
          "text": [
            "> <ipython-input-16-eb1d98073a48>(10)forward()\n",
            "-> x = x.view(-1, 784)\n",
            "(Pdb) x.shape\n",
            "torch.Size([64, 1, 28, 28])\n",
            "(Pdb) n\n",
            "> <ipython-input-16-eb1d98073a48>(11)forward()\n",
            "-> x = F.relu(self.fc1(x))\n",
            "(Pdb) x.shape\n",
            "torch.Size([64, 784])\n",
            "(Pdb) b = self.fc1(x)\n",
            "*** The specified object '= self.fc1(x)' is not a function or was not found along sys.path.\n",
            "(Pdb) line\n",
            "*** NameError: name 'line' is not defined\n",
            "(Pdb) b = self.fc1(x)\n",
            "*** The specified object '= self.fc1(x)' is not a function or was not found along sys.path.\n",
            "(Pdb) bb=self.fc1(x)\n",
            "(Pdb) bb.shape\n",
            "torch.Size([64, 256])\n",
            "(Pdb) n\n",
            "> <ipython-input-16-eb1d98073a48>(12)forward()\n",
            "-> x = F.relu(self.fc2(x))\n",
            "(Pdb) x.shape\n",
            "torch.Size([64, 256])\n",
            "(Pdb) n\n",
            "> <ipython-input-16-eb1d98073a48>(13)forward()\n",
            "-> x = self.fc3(x)\n",
            "(Pdb) x.shape\n",
            "torch.Size([64, 128])\n",
            "(Pdb) n\n",
            "> <ipython-input-16-eb1d98073a48>(14)forward()\n",
            "-> return x\n",
            "(Pdb) x.shape\n",
            "torch.Size([64, 10])\n",
            "(Pdb) ㅌ\n",
            "*** NameError: name 'ᄐ' is not defined\n",
            "(Pdb) x\n",
            "tensor([[ 7.9308e-02,  3.2331e-03, -5.9811e-02, -4.2346e-02, -6.3815e-02,\n",
            "         -1.1029e-01,  3.1978e-02, -5.0975e-02,  3.1299e-03, -5.5342e-02],\n",
            "        [ 1.2302e-01, -2.4943e-02, -3.7364e-02, -2.7960e-02, -9.8772e-02,\n",
            "         -9.0644e-02,  6.4958e-02, -2.9145e-02,  1.0510e-02, -3.3488e-02],\n",
            "        [ 1.5187e-01,  1.4995e-02, -5.6684e-02, -5.9225e-02, -7.6601e-02,\n",
            "         -7.5220e-02,  5.7395e-02,  2.2635e-03, -2.6603e-03, -5.6227e-02],\n",
            "        [ 7.0777e-02, -1.3385e-03, -4.3390e-02, -4.1616e-02, -3.8957e-02,\n",
            "         -1.2056e-01,  5.3403e-02, -4.7159e-02, -1.3872e-02, -1.5902e-02],\n",
            "        [ 1.6263e-01,  4.2867e-03, -5.1693e-02, -1.4839e-02, -9.7731e-02,\n",
            "         -6.7205e-02,  3.8821e-02,  2.7346e-02,  3.5101e-02, -8.0564e-02],\n",
            "        [ 8.8884e-02,  5.9244e-04, -4.6685e-02, -5.5071e-02, -4.4360e-02,\n",
            "         -8.9786e-02,  3.9316e-02, -1.9869e-02,  2.1278e-02, -4.0035e-02],\n",
            "        [ 7.6426e-02,  9.9268e-04, -5.1014e-02, -5.3769e-02, -4.4975e-02,\n",
            "         -9.0816e-02,  3.2151e-02, -3.6979e-02,  1.1035e-02, -1.9039e-02],\n",
            "        [ 8.2508e-02, -2.3850e-03, -4.7090e-02, -5.0054e-02, -7.1943e-02,\n",
            "         -8.1658e-02,  5.1511e-02, -4.2601e-02,  2.5501e-02, -2.6286e-02],\n",
            "        [ 1.0623e-01,  2.8157e-02, -8.2226e-02, -4.9170e-02, -5.3246e-02,\n",
            "         -8.1404e-02,  4.3911e-02, -1.9547e-02, -7.4810e-03, -4.8199e-02],\n",
            "        [ 8.6965e-02,  2.5856e-03, -3.4503e-02, -3.4671e-02, -5.3454e-02,\n",
            "         -7.5104e-02,  5.4502e-02, -3.7175e-02,  1.2904e-02, -1.9519e-02],\n",
            "        [ 8.0153e-02,  1.3137e-02, -3.9759e-02, -1.9333e-02, -5.2904e-02,\n",
            "         -6.8489e-02,  8.1026e-02, -5.5849e-02, -9.1777e-03, -1.3132e-02],\n",
            "        [ 9.8258e-02, -1.1393e-02, -5.6831e-02, -4.0920e-02, -6.2177e-02,\n",
            "         -7.4656e-02,  8.3477e-02, -3.8243e-03,  1.5650e-02,  1.1894e-03],\n",
            "        [ 1.2062e-01, -9.9534e-03, -5.9352e-02, -3.8336e-02, -6.7282e-02,\n",
            "         -1.0028e-01,  6.0822e-02, -5.3330e-02, -4.3684e-02, -2.8482e-02],\n",
            "        [ 7.0636e-02, -1.0545e-02, -2.8155e-02, -3.4418e-02, -6.0199e-02,\n",
            "         -9.4781e-02,  8.7424e-02, -8.3871e-02, -4.0879e-02, -2.2195e-02],\n",
            "        [ 1.2041e-01,  5.3116e-03, -3.3507e-02, -4.2990e-02, -5.7159e-02,\n",
            "         -7.3483e-02,  4.4166e-02, -6.3677e-03,  1.3067e-02, -3.2754e-02],\n",
            "        [ 7.1032e-02, -6.9120e-03, -3.0810e-02, -6.1741e-02, -4.9120e-02,\n",
            "         -8.1444e-02,  6.5265e-02, -3.0067e-02, -3.5625e-03, -6.6882e-03],\n",
            "        [ 1.4008e-01,  4.5935e-02, -6.3257e-02, -5.4682e-02, -6.6851e-02,\n",
            "         -9.2768e-02,  4.8519e-02, -2.2080e-03, -1.1008e-02, -5.2622e-02],\n",
            "        [ 1.5333e-01, -3.3647e-04, -1.4543e-02, -2.3486e-02, -7.6045e-02,\n",
            "         -6.5242e-02,  4.4146e-02, -4.7437e-03, -1.2485e-03, -7.2081e-02],\n",
            "        [ 8.5296e-02,  7.3883e-03, -5.8506e-02, -4.4597e-02, -5.1161e-02,\n",
            "         -8.0011e-02,  5.2935e-02, -4.9609e-03,  1.6336e-02, -4.4549e-03],\n",
            "        [ 1.4016e-01,  1.2077e-02, -4.7159e-02, -3.3254e-02, -9.0751e-02,\n",
            "         -7.4850e-02,  4.8807e-02,  2.0127e-02,  2.1335e-02, -5.9049e-02],\n",
            "        [ 8.3954e-02, -2.4753e-02, -5.2919e-02, -5.4483e-02, -4.4889e-02,\n",
            "         -8.1642e-02,  6.1714e-02, -4.4555e-03,  7.2653e-03, -1.1117e-02],\n",
            "        [ 1.5198e-01,  1.0351e-03, -6.2582e-02, -4.5003e-02, -1.1579e-01,\n",
            "         -7.6162e-02,  6.8164e-02, -9.5163e-04,  1.0677e-02, -5.3630e-02],\n",
            "        [ 7.1404e-02,  1.2799e-02, -4.2211e-02, -3.3961e-02, -6.9970e-02,\n",
            "         -9.8778e-02,  5.2236e-02, -5.5036e-02,  5.2060e-03, -4.0350e-02],\n",
            "        [ 1.2042e-01,  1.4684e-03, -3.7383e-02, -4.7932e-02, -8.5912e-02,\n",
            "         -7.0171e-02,  3.6513e-02, -5.3295e-04,  1.0156e-02, -4.5971e-02],\n",
            "        [ 1.3093e-01,  1.9667e-03, -1.1254e-02, -6.0064e-02, -4.7425e-02,\n",
            "         -8.3191e-02,  4.9218e-02, -1.8926e-02, -2.8969e-02, -3.3776e-02],\n",
            "        [ 9.8849e-02, -2.1324e-02, -6.6361e-02, -3.1267e-02, -5.3725e-02,\n",
            "         -7.2791e-02,  5.3142e-02,  3.5002e-02,  2.9836e-02, -5.7401e-02],\n",
            "        [ 1.2342e-01,  6.5648e-03, -4.5580e-02, -2.9412e-02, -9.0228e-02,\n",
            "         -8.9470e-02,  8.6007e-02, -2.5486e-02,  2.5687e-04, -3.5192e-02],\n",
            "        [ 1.1850e-01,  1.8225e-02, -4.7234e-02, -3.9022e-02, -6.1279e-02,\n",
            "         -9.3254e-02,  3.6619e-02,  2.4465e-03, -1.4784e-03, -6.2294e-02],\n",
            "        [ 1.2907e-01,  3.5867e-02, -6.4550e-02, -8.7187e-02, -7.2441e-02,\n",
            "         -9.1331e-02,  5.7208e-02,  1.1474e-02, -1.2203e-02, -6.3762e-02],\n",
            "        [ 7.2759e-02,  7.7041e-03, -6.9127e-02, -7.0990e-02, -6.0778e-02,\n",
            "         -8.0920e-02,  6.9200e-02, -2.9616e-03,  1.3717e-02, -1.0975e-02],\n",
            "        [ 9.7314e-02,  9.5057e-03, -4.2135e-02, -4.2080e-02, -7.0041e-02,\n",
            "         -7.8472e-02,  6.0748e-02, -3.8281e-02,  8.1485e-03, -4.2508e-02],\n",
            "        [ 1.1736e-01, -1.6611e-02, -3.3490e-02, -3.9378e-02, -6.9731e-02,\n",
            "         -8.9304e-02,  6.3672e-02, -3.1730e-02,  7.2218e-03, -4.1169e-02],\n",
            "        [ 7.3803e-02, -1.0722e-03, -5.8704e-02, -5.7277e-02, -5.1963e-02,\n",
            "         -8.6989e-02,  5.0004e-02, -2.7477e-02,  2.1245e-02, -9.2857e-03],\n",
            "        [ 6.6092e-02,  6.7591e-03, -7.6865e-02, -6.0797e-02, -5.0860e-02,\n",
            "         -1.1040e-01,  4.5774e-02, -2.5936e-02,  2.2321e-02, -8.3149e-03],\n",
            "        [ 8.3493e-02,  1.1542e-02, -7.1709e-02, -4.9994e-02, -6.1014e-02,\n",
            "         -9.0433e-02,  6.2587e-02, -1.0151e-02,  6.7276e-03, -1.2745e-02],\n",
            "        [ 1.3183e-01,  3.5568e-02, -9.0020e-02, -6.6749e-02, -6.6943e-02,\n",
            "         -8.0273e-02,  4.2416e-02,  7.3313e-05, -1.0377e-02, -4.3071e-02],\n",
            "        [ 8.8470e-02,  5.8186e-03, -5.0817e-02, -4.7651e-02, -5.8418e-02,\n",
            "         -1.0213e-01,  2.5318e-02, -4.7588e-02,  6.9592e-03, -6.1836e-02],\n",
            "        [ 1.2843e-01,  4.2313e-02, -5.4597e-02, -3.9303e-02, -6.8659e-02,\n",
            "         -7.2100e-02,  7.0750e-02,  1.3897e-02, -1.1529e-02, -5.5533e-02],\n",
            "        [ 1.0007e-01, -1.6400e-02, -2.3419e-02, -1.8196e-02, -6.1574e-02,\n",
            "         -9.3558e-02,  8.1801e-02, -7.0365e-02, -3.2993e-02, -2.6919e-02],\n",
            "        [ 1.8813e-01,  2.0973e-02, -4.9378e-02, -1.3391e-02, -9.1174e-02,\n",
            "         -6.4241e-02,  1.4454e-02,  4.1448e-02,  2.3172e-02, -1.0923e-01],\n",
            "        [ 1.0824e-01,  2.5099e-02, -4.5233e-02, -7.3169e-02, -6.8185e-02,\n",
            "         -8.9123e-02,  8.0844e-02, -4.6066e-02, -8.3917e-03, -3.3076e-02],\n",
            "        [ 1.9638e-01,  2.6030e-02, -4.8717e-02, -2.2125e-02, -1.1447e-01,\n",
            "         -7.9960e-02,  6.9975e-02,  4.6716e-03,  7.2342e-03, -7.4370e-02],\n",
            "        [ 8.2793e-02, -2.3552e-02, -2.6357e-02, -3.5135e-02, -7.2387e-02,\n",
            "         -7.3217e-02,  8.6666e-02, -7.8749e-02, -3.2479e-03,  1.3912e-02],\n",
            "        [ 7.5580e-02,  1.2236e-02, -4.4214e-02, -4.7057e-02, -4.1794e-02,\n",
            "         -1.0864e-01,  6.2548e-02, -2.9396e-02, -2.7786e-02, -3.0038e-02],\n",
            "        [ 9.6376e-02,  1.0444e-02, -7.2983e-02, -4.3750e-02, -7.1344e-02,\n",
            "         -1.0719e-01,  5.8248e-02, -1.3139e-02, -1.7502e-02, -2.6961e-02],\n",
            "        [ 9.3674e-02,  3.8744e-04, -4.1035e-02, -5.7991e-02, -6.9355e-02,\n",
            "         -1.0110e-01,  6.6868e-02, -1.0956e-02,  1.2957e-02, -2.3368e-02],\n",
            "        [ 8.1909e-02,  1.0356e-02, -4.5080e-02, -4.5814e-02, -5.1855e-02,\n",
            "         -1.0016e-01,  7.4762e-02, -1.8083e-02, -6.8529e-04, -3.3912e-02],\n",
            "        [ 1.0960e-01, -2.8107e-02, -3.8832e-03, -5.6474e-02, -4.7476e-02,\n",
            "         -7.3318e-02,  6.2202e-02, -2.1341e-02,  7.8712e-03, -3.0504e-02],\n",
            "        [ 1.0544e-01, -2.1394e-02, -5.9659e-02, -2.7190e-02, -6.2381e-02,\n",
            "         -7.6614e-02,  6.1126e-02,  2.3721e-02,  1.6332e-02, -6.1878e-02],\n",
            "        [ 1.0183e-01,  2.0444e-02, -6.2882e-02, -5.3649e-02, -4.4627e-02,\n",
            "         -7.8807e-02,  4.8790e-02, -2.6868e-03,  1.2827e-02, -2.0268e-02],\n",
            "        [ 6.2372e-02,  5.9124e-03, -3.9585e-02, -6.5055e-02, -3.3832e-02,\n",
            "         -1.0608e-01,  7.7581e-02, -5.5100e-02,  4.3811e-03, -1.4441e-02],\n",
            "        [ 1.0553e-01, -3.2705e-02, -3.1778e-02, -6.3227e-02, -2.9632e-02,\n",
            "         -3.8084e-02,  6.2029e-02, -7.7561e-03,  1.4900e-02, -2.0580e-02],\n",
            "        [ 1.2024e-01,  1.0717e-02, -4.8008e-02, -5.0254e-02, -5.7149e-02,\n",
            "         -8.7811e-02,  6.6074e-02,  1.9282e-03,  1.5910e-03, -2.1453e-02],\n",
            "        [ 8.6912e-02, -1.1280e-02, -2.8494e-02, -4.2196e-02, -6.4168e-02,\n",
            "         -9.7816e-02,  7.9581e-02, -6.3520e-02, -2.3086e-02, -2.4579e-02],\n",
            "        [ 6.2761e-02,  2.1740e-03, -6.3521e-02, -6.0542e-02, -4.6669e-02,\n",
            "         -9.1815e-02,  2.6750e-02, -3.7215e-02,  1.4338e-02, -3.3308e-02],\n",
            "        [ 1.1867e-01,  7.4135e-03, -3.7945e-02, -4.2052e-02, -8.1679e-02,\n",
            "         -8.4297e-02,  4.4075e-02, -2.2222e-02,  4.1842e-03, -3.0577e-02],\n",
            "        [ 1.1182e-01,  9.2917e-03, -5.5738e-02, -2.2404e-02, -9.7988e-02,\n",
            "         -7.5355e-02,  9.0970e-02, -2.3421e-02, -1.4969e-03, -3.6806e-02],\n",
            "        [ 1.1619e-01,  3.1509e-02, -4.3311e-02, -2.5761e-02, -7.7248e-02,\n",
            "         -1.0228e-01,  1.1363e-01, -5.6329e-02, -4.7755e-02, -5.0554e-02],\n",
            "        [ 6.0124e-02,  3.2592e-03, -7.6296e-02, -4.3971e-02, -5.6027e-02,\n",
            "         -1.1071e-01,  7.3071e-02, -4.8713e-02, -3.3262e-03, -2.7886e-02],\n",
            "        [ 8.7480e-02, -6.5638e-03, -2.4544e-02, -5.7268e-02, -6.1253e-02,\n",
            "         -8.5008e-02,  6.6781e-02, -2.3244e-02, -8.2837e-04, -1.4789e-02],\n",
            "        [ 1.1818e-01,  1.5249e-02, -1.0022e-01, -6.1057e-02, -7.3553e-02,\n",
            "         -8.5474e-02,  6.8858e-02,  1.2936e-02, -1.6072e-02, -3.0864e-02],\n",
            "        [ 1.4024e-01,  2.1259e-03, -8.8831e-02, -5.9262e-02, -1.1080e-01,\n",
            "         -7.4857e-02,  7.4780e-02,  2.9859e-02, -2.8002e-03, -6.6264e-02],\n",
            "        [ 1.6842e-01,  4.4374e-02, -3.8016e-02, -4.0129e-02, -7.5306e-02,\n",
            "         -1.0723e-01,  9.4992e-02, -3.7060e-02, -1.7475e-02, -2.8307e-02],\n",
            "        [ 1.8805e-01,  2.6437e-02, -9.5803e-03, -5.0517e-02, -8.0319e-02,\n",
            "         -7.7751e-02,  4.9780e-02, -2.5491e-02, -2.7331e-02, -9.2006e-02]],\n",
            "       device='cuda:0', grad_fn=<AddmmBackward>)\n"
          ],
          "name": "stdout"
        }
      ]
    }
  ]
}