{
  "nbformat": 4,
  "nbformat_minor": 0,
  "metadata": {
    "kernelspec": {
      "display_name": "Python 3",
      "language": "python",
      "name": "python3"
    },
    "language_info": {
      "codemirror_mode": {
        "name": "ipython",
        "version": 3
      },
      "file_extension": ".py",
      "mimetype": "text/x-python",
      "name": "python",
      "nbconvert_exporter": "python",
      "pygments_lexer": "ipython3",
      "version": "3.7.0"
    },
    "colab": {
      "name": "neural_network.ipynb",
      "provenance": [],
      "collapsed_sections": [],
      "include_colab_link": true
    },
    "accelerator": "GPU"
  },
  "cells": [
    {
      "cell_type": "markdown",
      "metadata": {
        "id": "view-in-github",
        "colab_type": "text"
      },
      "source": [
        "<a href=\"https://colab.research.google.com/github/yellowjs0304/3-min-pytorch/blob/master/04-%ED%8C%A8%EC%85%98_%EC%95%84%EC%9D%B4%ED%85%9C%EC%9D%84_%EA%B5%AC%EB%B6%84%ED%95%98%EB%8A%94_DNN/neural_network.ipynb\" target=\"_parent\"><img src=\"https://colab.research.google.com/assets/colab-badge.svg\" alt=\"Open In Colab\"/></a>"
      ]
    },
    {
      "cell_type": "markdown",
      "metadata": {
        "id": "UKrb-VmX83RV"
      },
      "source": [
        "# 뉴럴넷으로 패션 아이템 구분하기\n",
        "Fashion MNIST 데이터셋과 앞서 배운 인공신경망을 이용하여 패션아이템을 구분해봅니다."
      ]
    },
    {
      "cell_type": "code",
      "metadata": {
        "id": "EBtBQ6S483Re"
      },
      "source": [
        "import torch\n",
        "# DNN 모델의 재료라 할 수 있는 nn 모듈\n",
        "import torch.nn as nn\n",
        "# optimizer를 위한 optim 모듈\n",
        "import torch.optim as optim\n",
        "# nn 모듈의 함수 버전 functional 모듈\n",
        "import torch.nn.functional as F\n",
        "# torchvision의 데이터셋인 MNIST를 사용하려 아래 라이브러리 임포트\n",
        "from torchvision import transforms, datasets"
      ],
      "execution_count": 21,
      "outputs": []
    },
    {
      "cell_type": "code",
      "metadata": {
        "id": "UmJuD6kU83Rf"
      },
      "source": [
        "# 현재 컴퓨터에서 CUDA(GPU Library)를 이용할 수 있는지 알아보기 위한 Flag\n",
        "USE_CUDA = torch.cuda.is_available()\n",
        "# USE_CUDA가 True일 경우, GPU를 할당 그 외엔 CPU 메모리 할당\n",
        "DEVICE = torch.device(\"cuda\" if USE_CUDA else \"cpu\")"
      ],
      "execution_count": 22,
      "outputs": []
    },
    {
      "cell_type": "code",
      "metadata": {
        "id": "ljctmB9L83Rh"
      },
      "source": [
        "# Epoch과 Batch_size 선언\n",
        "EPOCHS = 30\n",
        "BATCH_SIZE = 64"
      ],
      "execution_count": 23,
      "outputs": []
    },
    {
      "cell_type": "markdown",
      "metadata": {
        "id": "APU0JfMN83Rh"
      },
      "source": [
        "## 데이터셋 불러오기"
      ]
    },
    {
      "cell_type": "code",
      "metadata": {
        "id": "K9hW5Bd883Rh"
      },
      "source": [
        "transform = transforms.Compose([\n",
        "    transforms.ToTensor()\n",
        "])"
      ],
      "execution_count": 24,
      "outputs": []
    },
    {
      "cell_type": "code",
      "metadata": {
        "id": "-_ZDKyp583Ri"
      },
      "source": [
        "trainset = datasets.FashionMNIST(\n",
        "    root      = './.data/', \n",
        "    train     = True,\n",
        "    download  = True,\n",
        "    transform = transform\n",
        ")\n",
        "testset = datasets.FashionMNIST(\n",
        "    root      = './.data/', \n",
        "    train     = False,\n",
        "    download  = True,\n",
        "    transform = transform\n",
        ")\n",
        "\n",
        "train_loader = torch.utils.data.DataLoader(\n",
        "    dataset     = trainset,\n",
        "    batch_size  = BATCH_SIZE,\n",
        "    shuffle     = True,\n",
        ")\n",
        "test_loader = torch.utils.data.DataLoader(\n",
        "    dataset     = testset,\n",
        "    batch_size  = BATCH_SIZE,\n",
        "    shuffle     = True,\n",
        ")"
      ],
      "execution_count": 25,
      "outputs": []
    },
    {
      "cell_type": "markdown",
      "metadata": {
        "id": "NjPmP1Nb83Ri"
      },
      "source": [
        "## 뉴럴넷으로 Fashion MNIST 학습하기\n",
        "\n",
        "입력 `x` 는 `[배치크기, 색, 높이, 넓이]`로 이루어져 있습니다.\n",
        "`x.size()`를 해보면 `[64, 1, 28, 28]`이라고 표시되는 것을 보실 수 있습니다.\n",
        "Fashion MNIST에서 이미지의 크기는 28 x 28, 색은 흑백으로 1 가지 입니다.\n",
        "그러므로 입력 x의 총 특성값 갯수는 28 x 28 x 1, 즉 784개 입니다.\n",
        "\n",
        "우리가 사용할 모델은 3개의 레이어를 가진 인공신경망 입니다. "
      ]
    },
    {
      "cell_type": "code",
      "metadata": {
        "id": "2X7NAiB_83Ri"
      },
      "source": [
        "class Net(nn.Module):\n",
        "    def __init__(self):\n",
        "        super(Net, self).__init__()\n",
        "        self.fc1 = nn.Linear(784, 256)\n",
        "        self.fc2 = nn.Linear(256, 128)\n",
        "        self.fc3 = nn.Linear(128, 10)\n",
        "\n",
        "    def forward(self, x):\n",
        "        # input data(image) = x \n",
        "        # x.shape = torch.Size([64, 1, 28, 28])\n",
        "        x = x.view(-1, 784)\n",
        "        # x.shape = torch.Size([64, 784])\n",
        "        x = F.relu(self.fc1(x))\n",
        "        # x.shape = torch.Size([64, 256])\n",
        "        x = F.relu(self.fc2(x))\n",
        "        # x.shape = torch.Size([64, 128])\n",
        "        x = self.fc3(x)\n",
        "        # x.shape = torch.Size([64, 10])\n",
        "        return x"
      ],
      "execution_count": 26,
      "outputs": []
    },
    {
      "cell_type": "markdown",
      "metadata": {
        "id": "camTCSJZ83Rj"
      },
      "source": [
        "## 모델 준비하기\n",
        "\n",
        "`to()` 함수는 모델의 파라미터들을 지정한 곳으로 보내는 역할을 합니다.\n",
        "일반적으로 CPU 1개만 사용할 경우 필요는 없지만,\n",
        "GPU를 사용하고자 하는 경우 `to(\"cuda\")`로 지정하여 GPU로 보내야 합니다.\n",
        "지정하지 않을 경우 계속 CPU에 남아 있게 되며 빠른 훈련의 이점을 누리실 수 없습니다.\n",
        "\n",
        "최적화 알고리즘으로 파이토치에 내장되어 있는 `optim.SGD`를 사용하겠습니다."
      ]
    },
    {
      "cell_type": "code",
      "metadata": {
        "id": "_RZoq9LU83Rj"
      },
      "source": [
        "# GPU 사용을 위함\n",
        "model        = Net().to(DEVICE)\n",
        "\n",
        "#최적화 함수 SGD\n",
        "optimizer    = optim.SGD(model.parameters(), lr=0.01)"
      ],
      "execution_count": 27,
      "outputs": []
    },
    {
      "cell_type": "markdown",
      "metadata": {
        "id": "hU4t1BVa83Rj"
      },
      "source": [
        "## 학습하기"
      ]
    },
    {
      "cell_type": "code",
      "metadata": {
        "id": "pVzaPaXs83Rj"
      },
      "source": [
        "def train(model, train_loader, optimizer):\n",
        "    # 모델을 학습 모드로 전환\n",
        "    model.train()\n",
        "\n",
        "    for batch_idx, (data, target) in enumerate(train_loader):\n",
        "        # 학습 데이터를 DEVICE의 메모리로 보냄\n",
        "        data, target = data.to(DEVICE), target.to(DEVICE)\n",
        "        # 매 반복(iteration)마다 기울기를 계산하기 위해 zero_grad() 호출\n",
        "        optimizer.zero_grad()\n",
        "        #실제 모델의 예측값(output) 받아오기\n",
        "        output = model(data)\n",
        "        # 정답 데이터와의 Cross Entropy Loss 계산\n",
        "        # +)일전엔 2개의 클래스라서 binary cross entropy 였으나, 이번엔 클래스가 10개이니깐 cross entropy 사용\n",
        "        # loss는 mini batch인 64개의 클래스의 오차 평균값\n",
        "        loss = F.cross_entropy(output, target)\n",
        "        # 기울기 계산\n",
        "        loss.backward()\n",
        "        # 가중치 수정\n",
        "        optimizer.step()"
      ],
      "execution_count": 28,
      "outputs": []
    },
    {
      "cell_type": "markdown",
      "metadata": {
        "id": "Vlw7qPXk83Rk"
      },
      "source": [
        "## 테스트하기"
      ]
    },
    {
      "cell_type": "code",
      "metadata": {
        "id": "DFYlPmpi83Rk"
      },
      "source": [
        "def evaluate(model, test_loader):\n",
        "    # 모델을 평가 모드로 전환\n",
        "    model.eval()\n",
        "    # 필요한 변수 초기화\n",
        "    # Test과정에서의 Loss = test_loss\n",
        "    # 실제 모델의 예측이 정답과 맞은 횟수 = correct\n",
        "    test_loss = 0\n",
        "    correct = 0\n",
        "    with torch.no_grad(): # 평가 과정에서는 기울기를 계산하지 않으므로, no_grad명시\n",
        "        for data, target in test_loader:\n",
        "            data, target = data.to(DEVICE), target.to(DEVICE)\n",
        "            output = model(data)\n",
        "\n",
        "            # 모든 오차 더하기\n",
        "            test_loss += F.cross_entropy(output, target,\n",
        "                                         reduction='sum').item()\n",
        "            \n",
        "            # 가장 큰 값을 가진 클래스가 모델의 예측입니다.\n",
        "            # 예측 클래스(pred)과 정답 클래스를 비교하여 일치할 경우 correct에 1을 더합니다.\n",
        "            pred = output.max(1, keepdim=True)[1]\n",
        "            # eq() 함수는 값이 일치하면 1을, 아니면 0을 출력.\n",
        "            correct += pred.eq(target.view_as(pred)).sum().item()\n",
        "\n",
        "    test_loss /= len(test_loader.dataset)\n",
        "    #정확도 계산\n",
        "    test_accuracy = 100. * correct / len(test_loader.dataset)\n",
        "    return test_loss, test_accuracy"
      ],
      "execution_count": 29,
      "outputs": []
    },
    {
      "cell_type": "markdown",
      "metadata": {
        "id": "BJu0rYqx83Rk"
      },
      "source": [
        "## 코드 돌려보기\n",
        "\n",
        "자, 이제 모든 준비가 끝났습니다. 코드를 돌려서 실제로 훈련이 되는지 확인해봅시다!"
      ]
    },
    {
      "cell_type": "code",
      "metadata": {
        "id": "z4x17DMC83Rk",
        "colab": {
          "base_uri": "https://localhost:8080/"
        },
        "outputId": "5e78aa9e-d693-475b-8813-24d459c480f1"
      },
      "source": [
        "for epoch in range(1, EPOCHS + 1):\n",
        "    train(model, train_loader, optimizer)\n",
        "    test_loss, test_accuracy = evaluate(model, test_loader)\n",
        "    \n",
        "    print('[{}] Test Loss: {:.4f}, Accuracy: {:.2f}%'.format(\n",
        "          epoch, test_loss, test_accuracy))"
      ],
      "execution_count": 30,
      "outputs": [
        {
          "output_type": "stream",
          "text": [
            "[1] Test Loss: 0.8318, Accuracy: 69.51%\n",
            "[2] Test Loss: 0.6885, Accuracy: 73.52%\n",
            "[3] Test Loss: 0.5925, Accuracy: 78.51%\n",
            "[4] Test Loss: 0.5566, Accuracy: 80.18%\n",
            "[5] Test Loss: 0.5344, Accuracy: 80.66%\n",
            "[6] Test Loss: 0.4999, Accuracy: 82.02%\n",
            "[7] Test Loss: 0.4829, Accuracy: 82.79%\n",
            "[8] Test Loss: 0.4865, Accuracy: 82.81%\n",
            "[9] Test Loss: 0.4748, Accuracy: 83.11%\n",
            "[10] Test Loss: 0.4737, Accuracy: 82.82%\n",
            "[11] Test Loss: 0.4553, Accuracy: 83.79%\n",
            "[12] Test Loss: 0.4429, Accuracy: 84.29%\n",
            "[13] Test Loss: 0.4422, Accuracy: 84.46%\n",
            "[14] Test Loss: 0.4295, Accuracy: 84.81%\n",
            "[15] Test Loss: 0.4283, Accuracy: 84.91%\n",
            "[16] Test Loss: 0.4156, Accuracy: 85.42%\n",
            "[17] Test Loss: 0.4279, Accuracy: 84.93%\n",
            "[18] Test Loss: 0.4104, Accuracy: 85.61%\n",
            "[19] Test Loss: 0.4271, Accuracy: 84.99%\n",
            "[20] Test Loss: 0.4017, Accuracy: 85.74%\n",
            "[21] Test Loss: 0.4030, Accuracy: 85.98%\n",
            "[22] Test Loss: 0.4054, Accuracy: 85.61%\n",
            "[23] Test Loss: 0.4085, Accuracy: 85.80%\n",
            "[24] Test Loss: 0.3947, Accuracy: 86.08%\n",
            "[25] Test Loss: 0.4151, Accuracy: 84.90%\n",
            "[26] Test Loss: 0.3839, Accuracy: 86.50%\n",
            "[27] Test Loss: 0.4253, Accuracy: 84.30%\n",
            "[28] Test Loss: 0.3830, Accuracy: 86.49%\n",
            "[29] Test Loss: 0.3926, Accuracy: 86.35%\n",
            "[30] Test Loss: 0.3886, Accuracy: 86.23%\n"
          ],
          "name": "stdout"
        }
      ]
    }
  ]
}